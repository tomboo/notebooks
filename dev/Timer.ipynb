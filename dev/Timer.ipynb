{
 "cells": [
  {
   "cell_type": "code",
   "execution_count": 28,
   "metadata": {},
   "outputs": [
    {
     "name": "stdout",
     "output_type": "stream",
     "text": [
      "0:00:00.969052 0:00:00\n",
      "Done\u0007\n"
     ]
    }
   ],
   "source": [
    "from datetime import datetime, timedelta\n",
    "\n",
    "def countdown(t):\n",
    "    start = datetime.now()\n",
    "    end = start + timedelta(seconds=t)\n",
    "    while datetime.now() <= end:\n",
    "        diff = end - datetime.now()\n",
    "        # print(diff)\n",
    "        print('\\r', diff, ' ', str(diff).split('.')[0], sep='', end='')\n",
    "        time.sleep(1)\n",
    "    print('\\nDone\\a')\n",
    "\n",
    "countdown(10)"
   ]
  },
  {
   "cell_type": "code",
   "execution_count": 3,
   "metadata": {},
   "outputs": [
    {
     "name": "stdout",
     "output_type": "stream",
     "text": [
      "00:10\n",
      "00:09\n",
      "00:08\n",
      "00:07\n",
      "00:06\n",
      "00:05\n",
      "00:04\n",
      "00:03\n",
      "00:02\n",
      "00:01\n",
      "Goodbye!\n"
     ]
    }
   ],
   "source": [
    "import time\n",
    "\n",
    "def countdown(t):\n",
    "    while t:\n",
    "        mins, secs = divmod(t, 60)\n",
    "        timeformat = '{:02d}:{:02d}'.format(mins, secs)\n",
    "        print(timeformat)  # print(timeformat, end='\\r')\n",
    "        time.sleep(1)\n",
    "        t -= 1\n",
    "    print('Goodbye!')\n",
    "\n",
    "countdown(10)"
   ]
  },
  {
   "cell_type": "markdown",
   "metadata": {},
   "source": [
    "- https://ipython.readthedocs.io/en/stable/\n",
    "- http://ipython.org/ipython-doc/dev/api/generated/IPython.display.html#IPython.display.clear_output"
   ]
  },
  {
   "cell_type": "code",
   "execution_count": 11,
   "metadata": {},
   "outputs": [
    {
     "name": "stdout",
     "output_type": "stream",
     "text": [
      "Goodbye!\n"
     ]
    }
   ],
   "source": [
    "import time\n",
    "from IPython.display import clear_output\n",
    "\n",
    "def countdown(t):\n",
    "    while t:\n",
    "        mins, secs = divmod(t, 60)\n",
    "        timeformat = '{:02d}:{:02d}'.format(mins, secs)\n",
    "        \n",
    "        clear_output(wait=True)\n",
    "        print(timeformat)\n",
    "        \n",
    "        time.sleep(1)\n",
    "        t -= 1\n",
    "        \n",
    "    clear_output(wait=True)\n",
    "    print('Goodbye!')\n",
    "\n",
    "countdown(10)"
   ]
  },
  {
   "cell_type": "code",
   "execution_count": 21,
   "metadata": {},
   "outputs": [
    {
     "name": "stdout",
     "output_type": "stream",
     "text": [
      "Goodbye!\n",
      "10.1 s ± 7.35 ms per loop (mean ± std. dev. of 7 runs, 1 loop each)\n"
     ]
    }
   ],
   "source": [
    "%timeit countdown(10)"
   ]
  }
 ],
 "metadata": {
  "kernelspec": {
   "display_name": "Python 3",
   "language": "python",
   "name": "python3"
  },
  "language_info": {
   "codemirror_mode": {
    "name": "ipython",
    "version": 3
   },
   "file_extension": ".py",
   "mimetype": "text/x-python",
   "name": "python",
   "nbconvert_exporter": "python",
   "pygments_lexer": "ipython3",
   "version": "3.7.3"
  }
 },
 "nbformat": 4,
 "nbformat_minor": 2
}
