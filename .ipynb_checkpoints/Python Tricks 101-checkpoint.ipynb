{
 "cells": [
  {
   "cell_type": "markdown",
   "metadata": {},
   "source": [
    "# Python Tricks 101"
   ]
  },
  {
   "cell_type": "markdown",
   "metadata": {},
   "source": [
    "## References\n",
    "- https://hackernoon.com/python-tricks-101-2836251922e0<br>\n",
    "- https://github.com/brennerm/PyTricks<br>"
   ]
  },
  {
   "cell_type": "markdown",
   "metadata": {},
   "source": [
    "## Swapping values"
   ]
  },
  {
   "cell_type": "code",
   "execution_count": 1,
   "metadata": {},
   "outputs": [
    {
     "name": "stdout",
     "output_type": "stream",
     "text": [
      "5 10\n",
      "10 5\n",
      "Initial Array : [1, 2, 3, 4, 5]\n",
      "Swapped Array : [2, 1, 3, 4, 5]\n"
     ]
    }
   ],
   "source": [
    "\"\"\"pythonic way of value swapping\"\"\"\n",
    "\n",
    "# Type of variable: Number\n",
    "a, b = 5, 10\n",
    "print(a, b)\n",
    "a, b = b, a\n",
    "print(a, b)\n",
    "\n",
    "# Type of variable: List\n",
    "myList = [1, 2, 3, 4, 5]\n",
    "print(\"Initial Array :\", myList)\n",
    "myList[0], myList[1] = myList[1], myList[0]\n",
    "print(\"Swapped Array :\", myList)"
   ]
  },
  {
   "cell_type": "markdown",
   "metadata": {},
   "source": [
    "## Create a single string from all the elements in list"
   ]
  },
  {
   "cell_type": "code",
   "execution_count": 2,
   "metadata": {},
   "outputs": [
    {
     "name": "stdout",
     "output_type": "stream",
     "text": [
      "Python is awesome\n"
     ]
    }
   ],
   "source": [
    "a = [\"Python\", \"is\", \"awesome\"]\n",
    "print(\" \".join(a))"
   ]
  },
  {
   "cell_type": "markdown",
   "metadata": {},
   "source": [
    "## Find the most frequent value in a list"
   ]
  },
  {
   "cell_type": "code",
   "execution_count": 4,
   "metadata": {},
   "outputs": [
    {
     "name": "stdout",
     "output_type": "stream",
     "text": [
      "2\n",
      "[(2, 4), (1, 3), (3, 2)]\n"
     ]
    }
   ],
   "source": [
    "\"\"\" most frequent element in a list \"\"\"\n",
    "\n",
    "a = [1, 2, 3, 1, 2, 3, 2, 2, 4, 5, 1]\n",
    "\n",
    "print(max(set(a), key = a.count))\n",
    "\n",
    "\"\"\" using Counter from collections \"\"\"\n",
    "from collections import Counter\n",
    "\n",
    "cnt = Counter(a)\n",
    "print(cnt.most_common(3))"
   ]
  },
  {
   "cell_type": "code",
   "execution_count": 21,
   "metadata": {},
   "outputs": [
    {
     "name": "stdout",
     "output_type": "stream",
     "text": [
      "1 3\n",
      "2 4\n",
      "3 2\n",
      "4 1\n",
      "5 1\n",
      "max: 2 4\n"
     ]
    }
   ],
   "source": [
    "a = [1, 2, 3, 1, 2, 3, 2, 2, 4, 5, 1]\n",
    "\n",
    "max_count = 0\n",
    "for i in set(a):\n",
    "    item = i\n",
    "    item_count = a.count(i)\n",
    "    print(item, item_count)\n",
    "    if max_count < item_count:\n",
    "        max_count = item_count\n",
    "        max_item = item\n",
    "print('max:', max_item, max_count)"
   ]
  },
  {
   "cell_type": "markdown",
   "metadata": {},
   "source": [
    "## Checking if two words are anagrams\n",
    "anagram: a word or phrase formed by rearranging the letters of a different word or phrase, typically using all the original letters exactly once"
   ]
  },
  {
   "cell_type": "code",
   "execution_count": 10,
   "metadata": {},
   "outputs": [
    {
     "name": "stdout",
     "output_type": "stream",
     "text": [
      "Counter({'b': 1, 'i': 1, 'n': 1, 'a': 1, 'r': 1, 'y': 1})\n",
      "Counter({'b': 1, 'r': 1, 'a': 1, 'i': 1, 'n': 1, 'y': 1})\n"
     ]
    },
    {
     "data": {
      "text/plain": [
       "True"
      ]
     },
     "execution_count": 10,
     "metadata": {},
     "output_type": "execute_result"
    }
   ],
   "source": [
    "from collections import Counter\n",
    "\n",
    "str1 = 'binary'\n",
    "print(Counter(str1))\n",
    "str2 = 'brainy'\n",
    "print(Counter(str2))\n",
    "\n",
    "Counter(str1) == Counter(str2)"
   ]
  },
  {
   "cell_type": "markdown",
   "metadata": {},
   "source": [
    "## Reverse a string"
   ]
  },
  {
   "cell_type": "code",
   "execution_count": 32,
   "metadata": {},
   "outputs": [
    {
     "name": "stdout",
     "output_type": "stream",
     "text": [
      "zyxwvutsrqponmlkjihgfedcba\n",
      "z y x w v u t s r q p o n m l k j i h g f e d c b a \n",
      "987654321\n"
     ]
    }
   ],
   "source": [
    "'''reversing a string with special case of step param'''\n",
    "\n",
    "a = 'abcdefghijklmnopqrstuvwxyz'\n",
    "print(a[::-1])\n",
    "\n",
    "'''iterating over string contents in reverse efficiently'''\n",
    "for c in reversed(a):\n",
    "    print(c, end=' ')\n",
    "print()\n",
    "\n",
    "'''reversing an integer through type conversion and slicing'''\n",
    "num = 123456789\n",
    "print(int(str(num)[::-1]))"
   ]
  },
  {
   "cell_type": "code",
   "execution_count": null,
   "metadata": {},
   "outputs": [],
   "source": []
  }
 ],
 "metadata": {
  "celltoolbar": "Raw Cell Format",
  "kernelspec": {
   "display_name": "Python 3",
   "language": "python",
   "name": "python3"
  },
  "language_info": {
   "codemirror_mode": {
    "name": "ipython",
    "version": 3
   },
   "file_extension": ".py",
   "mimetype": "text/x-python",
   "name": "python",
   "nbconvert_exporter": "python",
   "pygments_lexer": "ipython3",
   "version": "3.7.3"
  }
 },
 "nbformat": 4,
 "nbformat_minor": 2
}
