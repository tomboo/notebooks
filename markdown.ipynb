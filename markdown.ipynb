{
 "cells": [
  {
   "cell_type": "markdown",
   "metadata": {
    "toc-hr-collapsed": false
   },
   "source": [
    "# Markdown for Jupyter Notebooks"
   ]
  },
  {
   "cell_type": "markdown",
   "metadata": {},
   "source": [
    "## References\n",
    "- [Markdown by John Grubber](https://daringfireball.net/projects/markdown/)\n",
    "- https://jupyter-notebook.readthedocs.io/en/stable/examples/Notebook/Working%20With%20Markdown%20Cells.html\n",
    "- https://medium.com/ibm-data-science-experience/markdown-for-jupyter-notebooks-cheatsheet-386c05aeebed\n",
    "\n",
    "- [GitHub Flavored Markdown Spec](https://github.github.com/gfm/#introduction)"
   ]
  },
  {
   "cell_type": "markdown",
   "metadata": {},
   "source": [
    "## Markdown Cells\n",
    "Text can be added to Jupyter Notebooks using Markdown cells. You can change the cell type to Markdown by using the Cell menu, the toolbar, or the key shortcut m. Markdown is a popular markup language that is a superset of HTML. Its specification can be found here:\n",
    "\n",
    "> https://daringfireball.net/projects/markdown/"
   ]
  },
  {
   "cell_type": "markdown",
   "metadata": {
    "toc-hr-collapsed": false
   },
   "source": [
    "## Headings\n",
    "Use #s followed by a black space for notebook titles and section headings.\n",
    "\n",
    "### Example:\n",
    "***\n",
    "# # Title\n",
    "## ## Major Headings\n",
    "### ### Subheadings\n",
    "#### #### 4th Level Subheadings\n",
    "##### ##### 5th Level Subheadings\n",
    "###### ###### 6th Level Subheadings\n",
    "Body text.\n",
    "***"
   ]
  },
  {
   "cell_type": "markdown",
   "metadata": {},
   "source": [
    "## Emphasis\n",
    "Use double __underscores__ or double **asterisks** to get Bold.\n",
    "\n",
    "Use single _underscores_ or single *asterisks* to get Italics.\n",
    "\n",
    "### Example:\n",
    "***\n",
    "__Bold__, **Bold**<br>\n",
    "_Italic_, *Italic*<br>\n",
    "You can make text **bold** or *italic*.\n",
    "***"
   ]
  },
  {
   "cell_type": "markdown",
   "metadata": {},
   "source": [
    "## Mathematical Symbols\n",
    "Use this code: `$ mathematical symbol $`\n",
    "\n",
    "#### Example:\n",
    "***\n",
    "TODO\n",
    "***"
   ]
  },
  {
   "cell_type": "markdown",
   "metadata": {},
   "source": [
    "## Monospace Font\n",
    "Surround text with a back single quotation mark. Use monospace for file path and file names and for text users enter or message text users see.\n",
    "\n",
    "### Example:\n",
    "***\n",
    "`back single quotation mark`\n",
    "***"
   ]
  },
  {
   "cell_type": "markdown",
   "metadata": {},
   "source": [
    "## Line Break\n",
    "Sometimes markdown doesn’t make line breaks when you want them. Use 2 newlines or this code for a manual line break: `<br>`\n",
    "\n",
    "### Example:\n",
    "***\n",
    "line break <br>\n",
    "line break <br>\n",
    "***"
   ]
  },
  {
   "cell_type": "markdown",
   "metadata": {},
   "source": [
    "## Colors\n",
    "Use this code: `<font color=blue|red|green|pink|yellow>Text</font>`\n",
    "\n",
    "Not all markdown code works within a font tag, so review your colored text carefully!\n",
    "\n",
    "### Example:\n",
    "***\n",
    "<font color=blue>blue</font><br>\n",
    "<font color=red>red</font><br>\n",
    "<font color=green>green</font><br>\n",
    "<font color=pink>pink</font><br>\n",
    "<font color=yellow>yellow</font><br>\n",
    "***"
   ]
  },
  {
   "cell_type": "markdown",
   "metadata": {},
   "source": [
    "## Indented Quoting\n",
    "Use a greater than sign (>) and then a space, then type the text. The text is indented and has a gray horizontal line to the left of it until the next carriage return.\n",
    "\n",
    "### Example:\n",
    "***\n",
    "> Quoted text.\n",
    "***"
   ]
  },
  {
   "cell_type": "markdown",
   "metadata": {},
   "source": [
    "## Bullet Lists\n",
    "Use the dash sign '-' with a space after it, or a space, a dash, and a space '-', to create a circular bullet. To create a sub bullet, use a tab followed a dash and a space. You can also use an asterisk instead of a dash, and it works the same.\n",
    "\n",
    "### Example:\n",
    "***\n",
    "- Item 1\n",
    "- Item 2\n",
    "    - Subitem 1\n",
    "        - One\n",
    "        - Two\n",
    "    - Subitem 2\n",
    "- Item 3\n",
    "***"
   ]
  },
  {
   "cell_type": "markdown",
   "metadata": {},
   "source": [
    "## Numbered Lists\n",
    "Start with '1.' followed by a space, then it starts numbering for you. Start each line with some number and a period, then a space. Tab to indent to get subnumbering.\n",
    "\n",
    "### Example:\n",
    "***\n",
    "1. Item 1\n",
    "1. Item 2\n",
    "    1. Subitem 1\n",
    "        1. One\n",
    "        1. Two\n",
    "    1. Subitem 2\n",
    "1. Item 3\n",
    "***"
   ]
  },
  {
   "cell_type": "markdown",
   "metadata": {},
   "source": [
    "## Graphics\n",
    "You can attach image files directly to a notebook only in Markdown cells. Drag and drop your images to the Mardown cell to attach it to the notebook. To add images to other cell types, you can use only graphics that are hosted on the web. You can’t add captions for graphics at this time. Use this code: <img src=\"url.gif\" alt=\"Alt text that describes the graphic\" title=\"Title text\" />\n"
   ]
  },
  {
   "cell_type": "markdown",
   "metadata": {},
   "source": [
    "## Geometric Shapes\n",
    "Use this code with a decimal or hex reference number from here: UTF-8 Geometric shapes\n",
    " &#reference_number;"
   ]
  },
  {
   "cell_type": "markdown",
   "metadata": {},
   "source": [
    "## Horizontal Rule\n",
    "Use three asterisks: ***\n",
    "\n",
    "### Example:\n",
    "***\n",
    "***\n",
    "---\n",
    "***"
   ]
  },
  {
   "cell_type": "markdown",
   "metadata": {},
   "source": [
    "## Internal Links\n",
    "To link to a section, use this code: [section title](#section-title) For the text in the parentheses, replace spaces and special characters with a hyphen. Make sure to test all the links!\n",
    "\n",
    "Alternatively, you can add an ID for a section right above the section title. Use this code: <a id=\"section_ID\"></a> Make sure that the section_ID is unique within the notebook.\n",
    "\n",
    "Use this code for the link and make sure to test all the links! [section title](#section_ID)"
   ]
  },
  {
   "cell_type": "markdown",
   "metadata": {},
   "source": [
    "## External Links\n",
    "Use this code: `[link text](http://url)`\n",
    "\n",
    "### Example:\n",
    "***\n",
    "[Jupyter](https://jupyter.org)\n",
    "***"
   ]
  },
  {
   "cell_type": "markdown",
   "metadata": {
    "toc-hr-collapsed": true
   },
   "source": [
    "## Embedded Code\n",
    "You can embed code meant for illustration instead of execution in Python:\n",
    "\n",
    "### Example:\n",
    "***\n",
    "```python\n",
    "s = 'Syntax highlighting for Python'\n",
    "print(s)\n",
    "```\n",
    "***"
   ]
  },
  {
   "cell_type": "markdown",
   "metadata": {
    "toc-hr-collapsed": true
   },
   "source": [
    "## Table\n",
    "\n",
    "### Example:\n",
    "***\n",
    "\n",
    "| This | is   |\n",
    "|------|------|\n",
    "|   a  | table|\n",
    "\n",
    "***"
   ]
  },
  {
   "cell_type": "markdown",
   "metadata": {
    "toc-hr-collapsed": true
   },
   "source": [
    "## Extensions:\n",
    "- jupyter_contrib_nbextensions"
   ]
  }
 ],
 "metadata": {
  "kernelspec": {
   "display_name": "Python 3",
   "language": "python",
   "name": "python3"
  },
  "language_info": {
   "codemirror_mode": {
    "name": "ipython",
    "version": 3
   },
   "file_extension": ".py",
   "mimetype": "text/x-python",
   "name": "python",
   "nbconvert_exporter": "python",
   "pygments_lexer": "ipython3",
   "version": "3.7.3"
  },
  "toc-autonumbering": true,
  "toc-showcode": false,
  "toc-showmarkdowntxt": false,
  "toc-showtags": false
 },
 "nbformat": 4,
 "nbformat_minor": 2
}
